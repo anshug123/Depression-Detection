{
  "metadata": {
    "kernelspec": {
      "display_name": "Python 3",
      "name": "python3"
    },
    "language_info": {
      "name": "python",
      "version": "3.10.12",
      "mimetype": "text/x-python",
      "codemirror_mode": {
        "name": "ipython",
        "version": 3
      },
      "pygments_lexer": "ipython3",
      "nbconvert_exporter": "python",
      "file_extension": ".py"
    },
    "kaggle": {
      "accelerator": "nvidiaTeslaT4",
      "dataSources": [
        {
          "sourceId": 6899629,
          "sourceType": "datasetVersion",
          "datasetId": 3963324
        },
        {
          "sourceId": 6921153,
          "sourceType": "datasetVersion",
          "datasetId": 3974184
        }
      ],
      "dockerImageVersionId": 30587,
      "isInternetEnabled": true,
      "language": "python",
      "sourceType": "notebook",
      "isGpuEnabled": true
    },
    "colab": {
      "provenance": [],
      "gpuType": "T4"
    },
    "accelerator": "GPU",
    "widgets": {
      "application/vnd.jupyter.widget-state+json": {
        "352023edc7204111b7149810190bee64": {
          "model_module": "@jupyter-widgets/controls",
          "model_name": "HBoxModel",
          "model_module_version": "1.5.0",
          "state": {
            "_dom_classes": [],
            "_model_module": "@jupyter-widgets/controls",
            "_model_module_version": "1.5.0",
            "_model_name": "HBoxModel",
            "_view_count": null,
            "_view_module": "@jupyter-widgets/controls",
            "_view_module_version": "1.5.0",
            "_view_name": "HBoxView",
            "box_style": "",
            "children": [
              "IPY_MODEL_95a7024d3c624d978ce847b106276006",
              "IPY_MODEL_cc5045ea60f146009e9be3c30bd233b2",
              "IPY_MODEL_6a34e9ceefb240b2afddc6b18caf2a1d"
            ],
            "layout": "IPY_MODEL_f148c6d1d1f04a2a9f27b048f622338d"
          }
        },
        "95a7024d3c624d978ce847b106276006": {
          "model_module": "@jupyter-widgets/controls",
          "model_name": "HTMLModel",
          "model_module_version": "1.5.0",
          "state": {
            "_dom_classes": [],
            "_model_module": "@jupyter-widgets/controls",
            "_model_module_version": "1.5.0",
            "_model_name": "HTMLModel",
            "_view_count": null,
            "_view_module": "@jupyter-widgets/controls",
            "_view_module_version": "1.5.0",
            "_view_name": "HTMLView",
            "description": "",
            "description_tooltip": null,
            "layout": "IPY_MODEL_fd038e25445648a8afce213ba3b10626",
            "placeholder": "​",
            "style": "IPY_MODEL_32140121837941edbcfe4414ca4b14e7",
            "value": "model.safetensors: 100%"
          }
        },
        "cc5045ea60f146009e9be3c30bd233b2": {
          "model_module": "@jupyter-widgets/controls",
          "model_name": "FloatProgressModel",
          "model_module_version": "1.5.0",
          "state": {
            "_dom_classes": [],
            "_model_module": "@jupyter-widgets/controls",
            "_model_module_version": "1.5.0",
            "_model_name": "FloatProgressModel",
            "_view_count": null,
            "_view_module": "@jupyter-widgets/controls",
            "_view_module_version": "1.5.0",
            "_view_name": "ProgressView",
            "bar_style": "success",
            "description": "",
            "description_tooltip": null,
            "layout": "IPY_MODEL_e3cafd43ab2c4862a27c14d8b86c2295",
            "max": 84881892,
            "min": 0,
            "orientation": "horizontal",
            "style": "IPY_MODEL_a125b584c4cc4e88a034aa0f6ab08b3f",
            "value": 84881892
          }
        },
        "6a34e9ceefb240b2afddc6b18caf2a1d": {
          "model_module": "@jupyter-widgets/controls",
          "model_name": "HTMLModel",
          "model_module_version": "1.5.0",
          "state": {
            "_dom_classes": [],
            "_model_module": "@jupyter-widgets/controls",
            "_model_module_version": "1.5.0",
            "_model_name": "HTMLModel",
            "_view_count": null,
            "_view_module": "@jupyter-widgets/controls",
            "_view_module_version": "1.5.0",
            "_view_name": "HTMLView",
            "description": "",
            "description_tooltip": null,
            "layout": "IPY_MODEL_d7d26c3eb97140c0a3dfeb199c3f3c7f",
            "placeholder": "​",
            "style": "IPY_MODEL_c33cb3ff597f4757ad2854a85ebcd216",
            "value": " 84.9M/84.9M [00:00&lt;00:00, 141MB/s]"
          }
        },
        "f148c6d1d1f04a2a9f27b048f622338d": {
          "model_module": "@jupyter-widgets/base",
          "model_name": "LayoutModel",
          "model_module_version": "1.2.0",
          "state": {
            "_model_module": "@jupyter-widgets/base",
            "_model_module_version": "1.2.0",
            "_model_name": "LayoutModel",
            "_view_count": null,
            "_view_module": "@jupyter-widgets/base",
            "_view_module_version": "1.2.0",
            "_view_name": "LayoutView",
            "align_content": null,
            "align_items": null,
            "align_self": null,
            "border": null,
            "bottom": null,
            "display": null,
            "flex": null,
            "flex_flow": null,
            "grid_area": null,
            "grid_auto_columns": null,
            "grid_auto_flow": null,
            "grid_auto_rows": null,
            "grid_column": null,
            "grid_gap": null,
            "grid_row": null,
            "grid_template_areas": null,
            "grid_template_columns": null,
            "grid_template_rows": null,
            "height": null,
            "justify_content": null,
            "justify_items": null,
            "left": null,
            "margin": null,
            "max_height": null,
            "max_width": null,
            "min_height": null,
            "min_width": null,
            "object_fit": null,
            "object_position": null,
            "order": null,
            "overflow": null,
            "overflow_x": null,
            "overflow_y": null,
            "padding": null,
            "right": null,
            "top": null,
            "visibility": null,
            "width": null
          }
        },
        "fd038e25445648a8afce213ba3b10626": {
          "model_module": "@jupyter-widgets/base",
          "model_name": "LayoutModel",
          "model_module_version": "1.2.0",
          "state": {
            "_model_module": "@jupyter-widgets/base",
            "_model_module_version": "1.2.0",
            "_model_name": "LayoutModel",
            "_view_count": null,
            "_view_module": "@jupyter-widgets/base",
            "_view_module_version": "1.2.0",
            "_view_name": "LayoutView",
            "align_content": null,
            "align_items": null,
            "align_self": null,
            "border": null,
            "bottom": null,
            "display": null,
            "flex": null,
            "flex_flow": null,
            "grid_area": null,
            "grid_auto_columns": null,
            "grid_auto_flow": null,
            "grid_auto_rows": null,
            "grid_column": null,
            "grid_gap": null,
            "grid_row": null,
            "grid_template_areas": null,
            "grid_template_columns": null,
            "grid_template_rows": null,
            "height": null,
            "justify_content": null,
            "justify_items": null,
            "left": null,
            "margin": null,
            "max_height": null,
            "max_width": null,
            "min_height": null,
            "min_width": null,
            "object_fit": null,
            "object_position": null,
            "order": null,
            "overflow": null,
            "overflow_x": null,
            "overflow_y": null,
            "padding": null,
            "right": null,
            "top": null,
            "visibility": null,
            "width": null
          }
        },
        "32140121837941edbcfe4414ca4b14e7": {
          "model_module": "@jupyter-widgets/controls",
          "model_name": "DescriptionStyleModel",
          "model_module_version": "1.5.0",
          "state": {
            "_model_module": "@jupyter-widgets/controls",
            "_model_module_version": "1.5.0",
            "_model_name": "DescriptionStyleModel",
            "_view_count": null,
            "_view_module": "@jupyter-widgets/base",
            "_view_module_version": "1.2.0",
            "_view_name": "StyleView",
            "description_width": ""
          }
        },
        "e3cafd43ab2c4862a27c14d8b86c2295": {
          "model_module": "@jupyter-widgets/base",
          "model_name": "LayoutModel",
          "model_module_version": "1.2.0",
          "state": {
            "_model_module": "@jupyter-widgets/base",
            "_model_module_version": "1.2.0",
            "_model_name": "LayoutModel",
            "_view_count": null,
            "_view_module": "@jupyter-widgets/base",
            "_view_module_version": "1.2.0",
            "_view_name": "LayoutView",
            "align_content": null,
            "align_items": null,
            "align_self": null,
            "border": null,
            "bottom": null,
            "display": null,
            "flex": null,
            "flex_flow": null,
            "grid_area": null,
            "grid_auto_columns": null,
            "grid_auto_flow": null,
            "grid_auto_rows": null,
            "grid_column": null,
            "grid_gap": null,
            "grid_row": null,
            "grid_template_areas": null,
            "grid_template_columns": null,
            "grid_template_rows": null,
            "height": null,
            "justify_content": null,
            "justify_items": null,
            "left": null,
            "margin": null,
            "max_height": null,
            "max_width": null,
            "min_height": null,
            "min_width": null,
            "object_fit": null,
            "object_position": null,
            "order": null,
            "overflow": null,
            "overflow_x": null,
            "overflow_y": null,
            "padding": null,
            "right": null,
            "top": null,
            "visibility": null,
            "width": null
          }
        },
        "a125b584c4cc4e88a034aa0f6ab08b3f": {
          "model_module": "@jupyter-widgets/controls",
          "model_name": "ProgressStyleModel",
          "model_module_version": "1.5.0",
          "state": {
            "_model_module": "@jupyter-widgets/controls",
            "_model_module_version": "1.5.0",
            "_model_name": "ProgressStyleModel",
            "_view_count": null,
            "_view_module": "@jupyter-widgets/base",
            "_view_module_version": "1.2.0",
            "_view_name": "StyleView",
            "bar_color": null,
            "description_width": ""
          }
        },
        "d7d26c3eb97140c0a3dfeb199c3f3c7f": {
          "model_module": "@jupyter-widgets/base",
          "model_name": "LayoutModel",
          "model_module_version": "1.2.0",
          "state": {
            "_model_module": "@jupyter-widgets/base",
            "_model_module_version": "1.2.0",
            "_model_name": "LayoutModel",
            "_view_count": null,
            "_view_module": "@jupyter-widgets/base",
            "_view_module_version": "1.2.0",
            "_view_name": "LayoutView",
            "align_content": null,
            "align_items": null,
            "align_self": null,
            "border": null,
            "bottom": null,
            "display": null,
            "flex": null,
            "flex_flow": null,
            "grid_area": null,
            "grid_auto_columns": null,
            "grid_auto_flow": null,
            "grid_auto_rows": null,
            "grid_column": null,
            "grid_gap": null,
            "grid_row": null,
            "grid_template_areas": null,
            "grid_template_columns": null,
            "grid_template_rows": null,
            "height": null,
            "justify_content": null,
            "justify_items": null,
            "left": null,
            "margin": null,
            "max_height": null,
            "max_width": null,
            "min_height": null,
            "min_width": null,
            "object_fit": null,
            "object_position": null,
            "order": null,
            "overflow": null,
            "overflow_x": null,
            "overflow_y": null,
            "padding": null,
            "right": null,
            "top": null,
            "visibility": null,
            "width": null
          }
        },
        "c33cb3ff597f4757ad2854a85ebcd216": {
          "model_module": "@jupyter-widgets/controls",
          "model_name": "DescriptionStyleModel",
          "model_module_version": "1.5.0",
          "state": {
            "_model_module": "@jupyter-widgets/controls",
            "_model_module_version": "1.5.0",
            "_model_name": "DescriptionStyleModel",
            "_view_count": null,
            "_view_module": "@jupyter-widgets/base",
            "_view_module_version": "1.2.0",
            "_view_name": "StyleView",
            "description_width": ""
          }
        }
      }
    }
  },
  "nbformat_minor": 0,
  "nbformat": 4,
  "cells": [
    {
      "cell_type": "code",
      "source": [
        "from google.colab import drive\n",
        "drive.mount('/content/gdrive')"
      ],
      "metadata": {
        "colab": {
          "base_uri": "https://localhost:8080/"
        },
        "id": "lPDMxhcWuMXw",
        "outputId": "d7cf6962-1a75-42b5-ee2c-2d7a03fdb4ee"
      },
      "execution_count": 1,
      "outputs": [
        {
          "output_type": "stream",
          "name": "stdout",
          "text": [
            "Mounted at /content/gdrive\n"
          ]
        }
      ]
    },
    {
      "cell_type": "code",
      "source": [
        "!pip install timm"
      ],
      "metadata": {
        "_uuid": "8f2839f25d086af736a60e9eeb907d3b93b6e0e5",
        "_cell_guid": "b1076dfc-b9ad-4769-8c92-a6c4dae69d19",
        "execution": {
          "iopub.status.busy": "2023-11-18T06:12:14.456600Z",
          "iopub.execute_input": "2023-11-18T06:12:14.457312Z",
          "iopub.status.idle": "2023-11-18T06:12:14.461394Z",
          "shell.execute_reply.started": "2023-11-18T06:12:14.457279Z",
          "shell.execute_reply": "2023-11-18T06:12:14.460335Z"
        },
        "trusted": true,
        "colab": {
          "base_uri": "https://localhost:8080/"
        },
        "id": "x7vHJkVbuK8R",
        "outputId": "af43bac1-d4c3-4cf4-876c-589de1bea21a"
      },
      "execution_count": 2,
      "outputs": [
        {
          "output_type": "stream",
          "name": "stdout",
          "text": [
            "Collecting timm\n",
            "  Downloading timm-0.9.12-py3-none-any.whl (2.2 MB)\n",
            "\u001b[2K     \u001b[90m━━━━━━━━━━━━━━━━━━━━━━━━━━━━━━━━━━━━━━━━\u001b[0m \u001b[32m2.2/2.2 MB\u001b[0m \u001b[31m9.8 MB/s\u001b[0m eta \u001b[36m0:00:00\u001b[0m\n",
            "\u001b[?25hRequirement already satisfied: torch>=1.7 in /usr/local/lib/python3.10/dist-packages (from timm) (2.1.0+cu121)\n",
            "Requirement already satisfied: torchvision in /usr/local/lib/python3.10/dist-packages (from timm) (0.16.0+cu121)\n",
            "Requirement already satisfied: pyyaml in /usr/local/lib/python3.10/dist-packages (from timm) (6.0.1)\n",
            "Requirement already satisfied: huggingface-hub in /usr/local/lib/python3.10/dist-packages (from timm) (0.20.2)\n",
            "Requirement already satisfied: safetensors in /usr/local/lib/python3.10/dist-packages (from timm) (0.4.1)\n",
            "Requirement already satisfied: filelock in /usr/local/lib/python3.10/dist-packages (from torch>=1.7->timm) (3.13.1)\n",
            "Requirement already satisfied: typing-extensions in /usr/local/lib/python3.10/dist-packages (from torch>=1.7->timm) (4.5.0)\n",
            "Requirement already satisfied: sympy in /usr/local/lib/python3.10/dist-packages (from torch>=1.7->timm) (1.12)\n",
            "Requirement already satisfied: networkx in /usr/local/lib/python3.10/dist-packages (from torch>=1.7->timm) (3.2.1)\n",
            "Requirement already satisfied: jinja2 in /usr/local/lib/python3.10/dist-packages (from torch>=1.7->timm) (3.1.3)\n",
            "Requirement already satisfied: fsspec in /usr/local/lib/python3.10/dist-packages (from torch>=1.7->timm) (2023.6.0)\n",
            "Requirement already satisfied: triton==2.1.0 in /usr/local/lib/python3.10/dist-packages (from torch>=1.7->timm) (2.1.0)\n",
            "Requirement already satisfied: requests in /usr/local/lib/python3.10/dist-packages (from huggingface-hub->timm) (2.31.0)\n",
            "Requirement already satisfied: tqdm>=4.42.1 in /usr/local/lib/python3.10/dist-packages (from huggingface-hub->timm) (4.66.1)\n",
            "Requirement already satisfied: packaging>=20.9 in /usr/local/lib/python3.10/dist-packages (from huggingface-hub->timm) (23.2)\n",
            "Requirement already satisfied: numpy in /usr/local/lib/python3.10/dist-packages (from torchvision->timm) (1.23.5)\n",
            "Requirement already satisfied: pillow!=8.3.*,>=5.3.0 in /usr/local/lib/python3.10/dist-packages (from torchvision->timm) (9.4.0)\n",
            "Requirement already satisfied: MarkupSafe>=2.0 in /usr/local/lib/python3.10/dist-packages (from jinja2->torch>=1.7->timm) (2.1.3)\n",
            "Requirement already satisfied: charset-normalizer<4,>=2 in /usr/local/lib/python3.10/dist-packages (from requests->huggingface-hub->timm) (3.3.2)\n",
            "Requirement already satisfied: idna<4,>=2.5 in /usr/local/lib/python3.10/dist-packages (from requests->huggingface-hub->timm) (3.6)\n",
            "Requirement already satisfied: urllib3<3,>=1.21.1 in /usr/local/lib/python3.10/dist-packages (from requests->huggingface-hub->timm) (2.0.7)\n",
            "Requirement already satisfied: certifi>=2017.4.17 in /usr/local/lib/python3.10/dist-packages (from requests->huggingface-hub->timm) (2023.11.17)\n",
            "Requirement already satisfied: mpmath>=0.19 in /usr/local/lib/python3.10/dist-packages (from sympy->torch>=1.7->timm) (1.3.0)\n",
            "Installing collected packages: timm\n",
            "Successfully installed timm-0.9.12\n"
          ]
        }
      ]
    },
    {
      "cell_type": "code",
      "source": [
        "import torch\n",
        "import torch.nn as nn\n",
        "import torch.optim as optim\n",
        "from torch.utils.data import DataLoader, Dataset\n",
        "from torchvision import transforms\n",
        "import os\n",
        "from sklearn.metrics import classification_report, accuracy_score, confusion_matrix\n",
        "import numpy as np\n",
        "from PIL import Image\n",
        "from sklearn.utils.class_weight import compute_class_weight\n",
        "import timm\n",
        "from sklearn.model_selection import train_test_split"
      ],
      "metadata": {
        "execution": {
          "iopub.status.busy": "2023-11-18T06:34:29.906256Z",
          "iopub.execute_input": "2023-11-18T06:34:29.906559Z",
          "iopub.status.idle": "2023-11-18T06:34:35.482873Z",
          "shell.execute_reply.started": "2023-11-18T06:34:29.906532Z",
          "shell.execute_reply": "2023-11-18T06:34:35.481931Z"
        },
        "trusted": true,
        "id": "HWo6uSE3uK8U"
      },
      "execution_count": 3,
      "outputs": []
    },
    {
      "cell_type": "code",
      "source": [
        "\n",
        "# Define a custom dataset class\n",
        "class SpectrogramDataset(Dataset):\n",
        "    def __init__(self, file_paths, labels, transform=None):\n",
        "        self.file_paths = file_paths\n",
        "        self.labels = labels\n",
        "        self.transform = transform\n",
        "\n",
        "    def __len__(self):\n",
        "        return len(self.file_paths)\n",
        "\n",
        "    def __getitem__(self, idx):\n",
        "        img_path = self.file_paths[idx]\n",
        "        image = Image.open(img_path).convert(\"RGB\")\n",
        "\n",
        "        if self.transform:\n",
        "            image = self.transform(image)\n",
        "\n",
        "        label = torch.tensor(self.labels[idx], dtype=torch.long)\n",
        "        return image, label\n"
      ],
      "metadata": {
        "execution": {
          "iopub.status.busy": "2023-11-18T06:34:35.484392Z",
          "iopub.execute_input": "2023-11-18T06:34:35.484716Z",
          "iopub.status.idle": "2023-11-18T06:34:35.491707Z",
          "shell.execute_reply.started": "2023-11-18T06:34:35.484678Z",
          "shell.execute_reply": "2023-11-18T06:34:35.490793Z"
        },
        "trusted": true,
        "id": "BMhr2UG7uK8U"
      },
      "execution_count": 4,
      "outputs": []
    },
    {
      "cell_type": "code",
      "source": [
        "# Define data directories\n",
        "train_dir = \"/content/gdrive/MyDrive/rnd1/week5/Training\"  # Contains \"utterances_d\" and \"utterances_nd\" folders\n",
        "test_dir = \"/content/gdrive/MyDrive/rnd1/week5/Test\"\n",
        "# List of subfolders (class labels)\n",
        "class_labels = [ \"non_depressed\",\"depressed\"]\n",
        "\n",
        "# List of time durations\n",
        "# time_durations = [\"25ms\", \"400ms\"]\n",
        "\n",
        "# Initialize lists to store file paths and labels\n",
        "train_files = []\n",
        "train_labels = []\n",
        "test_files = []\n",
        "test_labels = []\n",
        "\n",
        "\n",
        "# Iterate through class labels and time durations to collect file paths and labels\n",
        "for label in class_labels:\n",
        "    # for duration in time_durations:\n",
        "    folder_path = os.path.join(train_dir, label)\n",
        "    file_paths = [os.path.join(folder_path, filename) for filename in os.listdir(folder_path)]\n",
        "    # Take a maximum of 100 images from each folder\n",
        "    #file_paths = file_paths[:190]\n",
        "    train_files.extend(file_paths)\n",
        "    train_labels.extend([1 if label == \"depressed\" else 0] * len(file_paths))\n",
        "\n",
        "for label in class_labels:\n",
        "    # for duration in time_durations:\n",
        "    folder_path = os.path.join(test_dir, label)\n",
        "    file_paths = [os.path.join(folder_path, filename) for filename in os.listdir(folder_path)]\n",
        "    # Take a maximum of 100 images from each folder\n",
        "    #file_paths = file_paths[:33]\n",
        "    test_files.extend(file_paths)\n",
        "    test_labels.extend([1 if label == \"depressed\" else 0] * len(file_paths))\n"
      ],
      "metadata": {
        "execution": {
          "iopub.status.busy": "2023-11-18T06:34:35.493175Z",
          "iopub.execute_input": "2023-11-18T06:34:35.493509Z",
          "iopub.status.idle": "2023-11-18T06:34:35.601328Z",
          "shell.execute_reply.started": "2023-11-18T06:34:35.493477Z",
          "shell.execute_reply": "2023-11-18T06:34:35.600576Z"
        },
        "trusted": true,
        "id": "gXPWtRA1uK8V"
      },
      "execution_count": 5,
      "outputs": []
    },
    {
      "cell_type": "code",
      "source": [
        "# Define transformations for data augmentation\n",
        "data_transforms = transforms.Compose([\n",
        "    transforms.Resize((224, 224)),\n",
        "    transforms.RandomHorizontalFlip(),\n",
        "    transforms.ToTensor(),\n",
        "    transforms.Normalize(mean=[0.485, 0.456, 0.406], std=[0.229, 0.224, 0.225]),\n",
        "])\n"
      ],
      "metadata": {
        "execution": {
          "iopub.status.busy": "2023-11-18T06:34:35.603401Z",
          "iopub.execute_input": "2023-11-18T06:34:35.603683Z",
          "iopub.status.idle": "2023-11-18T06:34:35.608934Z",
          "shell.execute_reply.started": "2023-11-18T06:34:35.603658Z",
          "shell.execute_reply": "2023-11-18T06:34:35.608012Z"
        },
        "trusted": true,
        "id": "MclzEoe5uK8V"
      },
      "execution_count": 6,
      "outputs": []
    },
    {
      "cell_type": "code",
      "source": [
        "# Create dataset objects for training and validation\n",
        "train_dataset = SpectrogramDataset(train_files, train_labels, transform=data_transforms)\n",
        "test_dataset = SpectrogramDataset(test_files, test_labels, transform=data_transforms)\n",
        "\n",
        "# Create data loaders\n",
        "batch_size = 32\n",
        "actual_train_loader = DataLoader(train_dataset, batch_size=batch_size, shuffle=True)\n",
        "actual_test_loader = DataLoader(test_dataset, batch_size=batch_size , shuffle=True)"
      ],
      "metadata": {
        "execution": {
          "iopub.status.busy": "2023-11-18T06:34:35.610257Z",
          "iopub.execute_input": "2023-11-18T06:34:35.610816Z",
          "iopub.status.idle": "2023-11-18T06:34:35.619338Z",
          "shell.execute_reply.started": "2023-11-18T06:34:35.610784Z",
          "shell.execute_reply": "2023-11-18T06:34:35.618444Z"
        },
        "trusted": true,
        "id": "ztjMKz3RuK8W"
      },
      "execution_count": 7,
      "outputs": []
    },
    {
      "cell_type": "code",
      "source": [
        "# SMOTE + ENN Balancing Train Dataset\n",
        "from imblearn.over_sampling import ADASYN\n",
        "from sklearn.model_selection import train_test_split\n",
        "from imblearn.over_sampling import SMOTE\n",
        "\n",
        "# smenn=ADASYN(random_state=130)\n",
        "smt=SMOTE()\n",
        "X,Y=[],[]\n",
        "for image,label in train_dataset:\n",
        "    X.append(np.array(image.flatten()))\n",
        "    Y.append(int(label))\n",
        "\n",
        "P,Q=[],[]\n",
        "for image,label in test_dataset:\n",
        "    P.append(np.array(image.flatten()))\n",
        "    Q.append(int(label))\n",
        "# for image,label in test_dataset:\n",
        "#     X.append(np.array(image.flatten()))\n",
        "#     Y.append(int(label))\n"
      ],
      "metadata": {
        "execution": {
          "iopub.status.busy": "2023-11-18T06:34:35.620475Z",
          "iopub.execute_input": "2023-11-18T06:34:35.620763Z",
          "iopub.status.idle": "2023-11-18T06:34:40.138567Z",
          "shell.execute_reply.started": "2023-11-18T06:34:35.620738Z",
          "shell.execute_reply": "2023-11-18T06:34:40.137439Z"
        },
        "trusted": true,
        "id": "elQZN0CVuK8W"
      },
      "execution_count": 8,
      "outputs": []
    },
    {
      "cell_type": "code",
      "source": [
        "\n",
        "# X_balanced,Y_balanced = smenn.fit_resample(np.array(X),np.array(Y))\n",
        "X_balanced,Y_balanced = smt.fit_resample(np.array(X),np.array(Y))\n",
        "P_balanced,Q_balanced = smt.fit_resample(np.array(P),np.array(Q))\n"
      ],
      "metadata": {
        "execution": {
          "iopub.status.busy": "2023-11-18T06:34:40.140309Z",
          "iopub.execute_input": "2023-11-18T06:34:40.141249Z",
          "iopub.status.idle": "2023-11-18T06:34:42.949900Z",
          "shell.execute_reply.started": "2023-11-18T06:34:40.141211Z",
          "shell.execute_reply": "2023-11-18T06:34:42.948890Z"
        },
        "trusted": true,
        "id": "UtmbKCTguK8W"
      },
      "execution_count": 9,
      "outputs": []
    },
    {
      "cell_type": "code",
      "source": [
        "X_balanced = torch.from_numpy(X_balanced.reshape((len(X_balanced),3,224,224)))\n",
        "P_balanced = torch.from_numpy(P_balanced.reshape((len(P_balanced),3,224,224)))\n"
      ],
      "metadata": {
        "execution": {
          "iopub.status.busy": "2023-11-18T06:34:42.951600Z",
          "iopub.execute_input": "2023-11-18T06:34:42.951967Z",
          "iopub.status.idle": "2023-11-18T06:34:42.959080Z",
          "shell.execute_reply.started": "2023-11-18T06:34:42.951933Z",
          "shell.execute_reply": "2023-11-18T06:34:42.958079Z"
        },
        "trusted": true,
        "id": "z9TtJZfXuK8W"
      },
      "execution_count": 10,
      "outputs": []
    },
    {
      "cell_type": "code",
      "source": [
        "len(X_balanced)"
      ],
      "metadata": {
        "execution": {
          "iopub.status.busy": "2023-11-18T06:34:42.960504Z",
          "iopub.execute_input": "2023-11-18T06:34:42.960853Z",
          "iopub.status.idle": "2023-11-18T06:34:42.970552Z",
          "shell.execute_reply.started": "2023-11-18T06:34:42.960819Z",
          "shell.execute_reply": "2023-11-18T06:34:42.969485Z"
        },
        "trusted": true,
        "colab": {
          "base_uri": "https://localhost:8080/"
        },
        "id": "GY-OuELvuK8X",
        "outputId": "4e1ac05b-fe0e-4399-9c3c-90749aaef5de"
      },
      "execution_count": 11,
      "outputs": [
        {
          "output_type": "execute_result",
          "data": {
            "text/plain": [
              "384"
            ]
          },
          "metadata": {},
          "execution_count": 11
        }
      ]
    },
    {
      "cell_type": "code",
      "source": [],
      "metadata": {
        "id": "UFahiZGh-PgE"
      },
      "execution_count": 11,
      "outputs": []
    },
    {
      "cell_type": "code",
      "source": [
        "X_train,X_eval,Y_train,Y_eval = train_test_split(X_balanced,Y_balanced,test_size=0.2,random_state=44)\n",
        "# X_test,X_o,Y_test,Y_o = train_test_split(P_balanced,Q_balanced,test_size=0,random_state=44)\n",
        "\n",
        "\n",
        "train_dataset=[(X_train[i].squeeze(),torch.tensor(Y_train[i])) for i in range(len(X_train))]\n",
        "eval_dataset=[(X_eval[i].squeeze(),torch.tensor(Y_eval[i])) for i in range(len(X_eval))]\n",
        "test_dataset=[(P_balanced[i].squeeze(),torch.tensor(Q_balanced[i])) for i in range(len(P_balanced))]\n",
        "\n",
        "\n",
        "\n",
        "# train_dataset=[(X_balanced[i].squeeze(),torch.tensor(Y_balanced[i])) for i in range(len(X_balanced))]\n",
        "\n",
        "# test_dataset=[(P_balanced[i].squeeze(),torch.tensor(Q_balanced[i])) for i in range(len(P_balanced))]\n"
      ],
      "metadata": {
        "execution": {
          "iopub.status.busy": "2023-11-18T06:34:42.973974Z",
          "iopub.execute_input": "2023-11-18T06:34:42.974330Z",
          "iopub.status.idle": "2023-11-18T06:34:43.124846Z",
          "shell.execute_reply.started": "2023-11-18T06:34:42.974300Z",
          "shell.execute_reply": "2023-11-18T06:34:43.124020Z"
        },
        "trusted": true,
        "id": "qfvHBYAZuK8X"
      },
      "execution_count": 12,
      "outputs": []
    },
    {
      "cell_type": "code",
      "source": [
        "# print(X_eval.size())\n",
        "# print(Y_eval.size())\n"
      ],
      "metadata": {
        "id": "osPD9jL3-RvR"
      },
      "execution_count": 13,
      "outputs": []
    },
    {
      "cell_type": "code",
      "source": [
        "from torch.utils.data import TensorDataset, DataLoader\n",
        "\n",
        "# Assuming X_train is a PyTorch tensor and Y_train is a NumPy array\n",
        "# Convert Y_train to a PyTorch tensor\n",
        "Y_train = torch.from_numpy(Y_train)\n",
        "\n",
        "# Create a TensorDataset\n",
        "train_data = TensorDataset(X_train, Y_train)\n",
        "# Specify batch size for the DataLoader\n",
        "batch_size = 16  # You can adjust this based on your requirements\n",
        "\n",
        "# Create a DataLoader\n",
        "train_loader = DataLoader(train_data, batch_size=batch_size, shuffle=True)"
      ],
      "metadata": {
        "execution": {
          "iopub.status.busy": "2023-11-18T06:34:43.126013Z",
          "iopub.execute_input": "2023-11-18T06:34:43.126379Z",
          "iopub.status.idle": "2023-11-18T06:34:43.132815Z",
          "shell.execute_reply.started": "2023-11-18T06:34:43.126344Z",
          "shell.execute_reply": "2023-11-18T06:34:43.131742Z"
        },
        "trusted": true,
        "id": "krEEzkjQuK8X"
      },
      "execution_count": 14,
      "outputs": []
    },
    {
      "cell_type": "code",
      "source": [
        "# Y_test = torch.from_numpy(Y_test)\n",
        "# test_data = TensorDataset(X_test, Y_test)\n",
        "batch_size = 16  # You can adjust this based on your requirements\n",
        "test_loader = DataLoader(test_dataset, batch_size=batch_size, shuffle=False)\n",
        "eval_loader = DataLoader(eval_dataset, batch_size=batch_size, shuffle=False)\n"
      ],
      "metadata": {
        "execution": {
          "iopub.status.busy": "2023-11-18T06:34:43.133877Z",
          "iopub.execute_input": "2023-11-18T06:34:43.134271Z",
          "iopub.status.idle": "2023-11-18T06:34:43.143899Z",
          "shell.execute_reply.started": "2023-11-18T06:34:43.134240Z",
          "shell.execute_reply": "2023-11-18T06:34:43.142975Z"
        },
        "trusted": true,
        "id": "zsb6bP4LuK8Y"
      },
      "execution_count": 15,
      "outputs": []
    },
    {
      "cell_type": "code",
      "source": [
        "# Calculate class weights for the loss function\n",
        "class_weights = compute_class_weight('balanced', classes=np.unique(train_labels), y=train_labels)\n",
        "class_weights = torch.tensor(class_weights, dtype=torch.float32).cuda()\n",
        "print(class_weights)\n",
        "# Load the MLP-Mixer model\n",
        "model_name = \"timm/convmixer_768_32.in1k\"\n",
        "model = timm.create_model(model_name, pretrained=True, num_classes=2)  # Change num_classes to 2 for binary classification\n",
        "device = torch.device(\"cuda\" if torch.cuda.is_available() else \"cpu\")\n",
        "model.to(device)\n",
        "\n",
        "# Define loss function and optimizer\n",
        "criterion = nn.CrossEntropyLoss()\n",
        "optimizer = optim.Adam(model.parameters(), lr=0.0001)\n"
      ],
      "metadata": {
        "execution": {
          "iopub.status.busy": "2023-11-18T06:34:43.144965Z",
          "iopub.execute_input": "2023-11-18T06:34:43.145285Z",
          "iopub.status.idle": "2023-11-18T06:34:48.902824Z",
          "shell.execute_reply.started": "2023-11-18T06:34:43.145261Z",
          "shell.execute_reply": "2023-11-18T06:34:48.901819Z"
        },
        "trusted": true,
        "colab": {
          "base_uri": "https://localhost:8080/",
          "height": 170,
          "referenced_widgets": [
            "352023edc7204111b7149810190bee64",
            "95a7024d3c624d978ce847b106276006",
            "cc5045ea60f146009e9be3c30bd233b2",
            "6a34e9ceefb240b2afddc6b18caf2a1d",
            "f148c6d1d1f04a2a9f27b048f622338d",
            "fd038e25445648a8afce213ba3b10626",
            "32140121837941edbcfe4414ca4b14e7",
            "e3cafd43ab2c4862a27c14d8b86c2295",
            "a125b584c4cc4e88a034aa0f6ab08b3f",
            "d7d26c3eb97140c0a3dfeb199c3f3c7f",
            "c33cb3ff597f4757ad2854a85ebcd216"
          ]
        },
        "id": "76Zkk1e-uK8Y",
        "outputId": "fbee382a-2d32-440c-d1d6-9626bd6a994a"
      },
      "execution_count": 16,
      "outputs": [
        {
          "output_type": "stream",
          "name": "stdout",
          "text": [
            "tensor([0.6484, 2.1842], device='cuda:0')\n"
          ]
        },
        {
          "output_type": "stream",
          "name": "stderr",
          "text": [
            "/usr/local/lib/python3.10/dist-packages/huggingface_hub/utils/_token.py:88: UserWarning: \n",
            "The secret `HF_TOKEN` does not exist in your Colab secrets.\n",
            "To authenticate with the Hugging Face Hub, create a token in your settings tab (https://huggingface.co/settings/tokens), set it as secret in your Google Colab and restart your session.\n",
            "You will be able to reuse this secret in all of your notebooks.\n",
            "Please note that authentication is recommended but still optional to access public models or datasets.\n",
            "  warnings.warn(\n"
          ]
        },
        {
          "output_type": "display_data",
          "data": {
            "text/plain": [
              "model.safetensors:   0%|          | 0.00/84.9M [00:00<?, ?B/s]"
            ],
            "application/vnd.jupyter.widget-view+json": {
              "version_major": 2,
              "version_minor": 0,
              "model_id": "352023edc7204111b7149810190bee64"
            }
          },
          "metadata": {}
        }
      ]
    },
    {
      "cell_type": "code",
      "source": [
        "# Combined model\n",
        "\n",
        "# # Training loop\n",
        "num_epochs = 15\n",
        "for epoch in range(num_epochs):\n",
        "    model.train()\n",
        "    running_loss = 0.0\n",
        "    correct_predictions = 0\n",
        "    total_predictions = 0\n",
        "\n",
        "    for images, labels in train_loader:\n",
        "        images, labels = images.to(device), labels.to(device)\n",
        "\n",
        "\n",
        "        optimizer.zero_grad()\n",
        "\n",
        "        outputs = model(images)\n",
        "        loss = criterion(outputs, labels)\n",
        "\n",
        "        # Calculate weighted loss for each example in the batch\n",
        "        batch_class_weights = torch.tensor([1, 1], dtype=torch.float32).to(device)\n",
        "\n",
        "        # Calculate weighted loss for each example in the batch\n",
        "        weighted_loss = loss * batch_class_weights[labels]\n",
        "\n",
        "        # Compute the mean of the weighted losses in the batch\n",
        "        mean_weighted_loss = weighted_loss.mean()\n",
        "\n",
        "        mean_weighted_loss.backward()\n",
        "        optimizer.step()\n",
        "\n",
        "        running_loss += mean_weighted_loss.item()\n",
        "\n",
        "        _, predicted = torch.max(outputs, 1)\n",
        "        total_predictions += labels.size(0)\n",
        "        correct_predictions += (predicted == labels).sum().item()\n",
        "\n",
        "    training_accuracy = correct_predictions / total_predictions\n",
        "    print(f\"Epoch {epoch + 1}/{num_epochs}, Loss: {running_loss / len(train_loader)}, Training Accuracy: {training_accuracy}\")\n"
      ],
      "metadata": {
        "execution": {
          "iopub.status.busy": "2023-11-18T06:34:48.903977Z",
          "iopub.execute_input": "2023-11-18T06:34:48.907593Z",
          "iopub.status.idle": "2023-11-18T06:43:33.228368Z",
          "shell.execute_reply.started": "2023-11-18T06:34:48.907564Z",
          "shell.execute_reply": "2023-11-18T06:43:33.227160Z"
        },
        "trusted": true,
        "colab": {
          "base_uri": "https://localhost:8080/"
        },
        "id": "pMohKLM3uK8Y",
        "outputId": "fe792c36-47ad-48f2-e64d-953a5b70c0d1"
      },
      "execution_count": 17,
      "outputs": [
        {
          "output_type": "stream",
          "name": "stdout",
          "text": [
            "Epoch 1/15, Loss: 0.6639857441186905, Training Accuracy: 0.6351791530944625\n",
            "Epoch 2/15, Loss: 0.5591727957129479, Training Accuracy: 0.8338762214983714\n",
            "Epoch 3/15, Loss: 0.38499039113521577, Training Accuracy: 0.8892508143322475\n",
            "Epoch 4/15, Loss: 0.1838253602385521, Training Accuracy: 0.9706840390879479\n",
            "Epoch 5/15, Loss: 0.10771360266953707, Training Accuracy: 0.9706840390879479\n",
            "Epoch 6/15, Loss: 0.10335503248497843, Training Accuracy: 0.993485342019544\n",
            "Epoch 7/15, Loss: 0.05520938243716955, Training Accuracy: 0.9869706840390879\n",
            "Epoch 8/15, Loss: 0.0628767266869545, Training Accuracy: 0.990228013029316\n",
            "Epoch 9/15, Loss: 0.02223542593419552, Training Accuracy: 1.0\n",
            "Epoch 10/15, Loss: 0.032004015269922095, Training Accuracy: 0.993485342019544\n",
            "Epoch 11/15, Loss: 0.02684449507505633, Training Accuracy: 0.993485342019544\n",
            "Epoch 12/15, Loss: 0.02060829002293758, Training Accuracy: 1.0\n",
            "Epoch 13/15, Loss: 0.017911502515198664, Training Accuracy: 0.996742671009772\n",
            "Epoch 14/15, Loss: 0.0200782454747241, Training Accuracy: 0.996742671009772\n",
            "Epoch 15/15, Loss: 0.012722711623064242, Training Accuracy: 1.0\n"
          ]
        }
      ]
    },
    {
      "cell_type": "code",
      "source": [
        "# Evaluate the model on the train set\n",
        "from sklearn.metrics import classification_report, accuracy_score\n",
        "def result(data_loader , title = \"\"):\n",
        "    model.eval()\n",
        "    all_preds = []\n",
        "    all_labels = []\n",
        "\n",
        "    with torch.no_grad():\n",
        "        for images, labels in data_loader:\n",
        "            images, labels = images.to(device), labels.to(device)\n",
        "\n",
        "            outputs = model(images)\n",
        "            preds = torch.argmax(outputs, dim=1)\n",
        "\n",
        "            all_preds.extend(preds.cpu().numpy())\n",
        "            all_labels.extend(labels.cpu().numpy())\n",
        "\n",
        "    # Calculate accuracy\n",
        "    accuracy = accuracy_score(all_labels, all_preds)\n",
        "    print(f\"{title} Accuracy: {accuracy}\")\n",
        "\n",
        "    # Generate classification report\n",
        "    report = classification_report(all_labels, all_preds)\n",
        "    print(\"Classification Report:\\n\", report)\n",
        "\n",
        "    from sklearn.metrics import confusion_matrix\n",
        "    import matplotlib.pyplot as plt\n",
        "    import seaborn as sns\n",
        "    import numpy as np\n",
        "    # Calculate and print the confusion matrix\n",
        "    confusion = confusion_matrix(all_labels, all_preds)\n",
        "    print(\"Confusion Matrix:\")\n",
        "    print(confusion)\n",
        "\n",
        "    # Plot the confusion matrix (optional)\n",
        "    plt.figure(figsize=(8, 6))\n",
        "    sns.heatmap(confusion, annot=True, fmt=\"d\", cmap=\"Blues\", xticklabels=[\"Non-Depressed\", \"Depressed\"], yticklabels=[\"Non-Depressed\", \"Depressed\"])\n",
        "    plt.xlabel(\"Predicted\")\n",
        "    plt.ylabel(\"True\")\n",
        "    plt.title(\"Confusion Matrix\")\n",
        "    plt.show()"
      ],
      "metadata": {
        "execution": {
          "iopub.status.busy": "2023-11-18T06:43:33.229738Z",
          "iopub.execute_input": "2023-11-18T06:43:33.230099Z",
          "iopub.status.idle": "2023-11-18T06:43:33.240813Z",
          "shell.execute_reply.started": "2023-11-18T06:43:33.230056Z",
          "shell.execute_reply": "2023-11-18T06:43:33.239813Z"
        },
        "trusted": true,
        "id": "HKprVBHXuK8Z"
      },
      "execution_count": 18,
      "outputs": []
    },
    {
      "cell_type": "code",
      "source": [
        "result(train_loader ,\"train_loader \")"
      ],
      "metadata": {
        "execution": {
          "iopub.status.busy": "2023-11-18T06:43:45.875263Z",
          "iopub.execute_input": "2023-11-18T06:43:45.876272Z",
          "iopub.status.idle": "2023-11-18T06:43:52.661389Z",
          "shell.execute_reply.started": "2023-11-18T06:43:45.876234Z",
          "shell.execute_reply": "2023-11-18T06:43:52.660462Z"
        },
        "trusted": true,
        "colab": {
          "base_uri": "https://localhost:8080/",
          "height": 807
        },
        "id": "w44lTpdIuK8Z",
        "outputId": "38d7342f-09da-4c60-8e14-fc4e91358526"
      },
      "execution_count": 19,
      "outputs": [
        {
          "output_type": "stream",
          "name": "stdout",
          "text": [
            "train_loader  Accuracy: 0.9837133550488599\n",
            "Classification Report:\n",
            "               precision    recall  f1-score   support\n",
            "\n",
            "           0       0.98      0.99      0.98       161\n",
            "           1       0.99      0.98      0.98       146\n",
            "\n",
            "    accuracy                           0.98       307\n",
            "   macro avg       0.98      0.98      0.98       307\n",
            "weighted avg       0.98      0.98      0.98       307\n",
            "\n",
            "Confusion Matrix:\n",
            "[[159   2]\n",
            " [  3 143]]\n"
          ]
        },
        {
          "output_type": "display_data",
          "data": {
            "text/plain": [
              "<Figure size 800x600 with 2 Axes>"
            ],
            "image/png": "[encoded data removed]"
          },
          "metadata": {}
        }
      ]
    },
    {
      "cell_type": "code",
      "source": [
        "result(test_loader,'test_loader ')"
      ],
      "metadata": {
        "execution": {
          "iopub.status.busy": "2023-11-18T06:43:57.818610Z",
          "iopub.execute_input": "2023-11-18T06:43:57.819697Z",
          "iopub.status.idle": "2023-11-18T06:44:00.724478Z",
          "shell.execute_reply.started": "2023-11-18T06:43:57.819660Z",
          "shell.execute_reply": "2023-11-18T06:44:00.723561Z"
        },
        "trusted": true,
        "colab": {
          "base_uri": "https://localhost:8080/",
          "height": 807
        },
        "id": "yj6QlmUyuK8Z",
        "outputId": "6ce5f009-5672-4e55-ec70-346edf318549"
      },
      "execution_count": 20,
      "outputs": [
        {
          "output_type": "stream",
          "name": "stdout",
          "text": [
            "test_loader  Accuracy: 0.7064676616915423\n",
            "Classification Report:\n",
            "               precision    recall  f1-score   support\n",
            "\n",
            "           0       0.67      0.81      0.73       201\n",
            "           1       0.76      0.60      0.67       201\n",
            "\n",
            "    accuracy                           0.71       402\n",
            "   macro avg       0.72      0.71      0.70       402\n",
            "weighted avg       0.72      0.71      0.70       402\n",
            "\n",
            "Confusion Matrix:\n",
            "[[163  38]\n",
            " [ 80 121]]\n"
          ]
        },
        {
          "output_type": "display_data",
          "data": {
            "text/plain": [
              "<Figure size 800x600 with 2 Axes>"
            ],
            "image/png": "[encoded data removed]"
          },
          "metadata": {}
        }
      ]
    },
    {
      "cell_type": "code",
      "source": [
        "result(actual_train_loader,'actual_train_loader ')"
      ],
      "metadata": {
        "execution": {
          "iopub.status.busy": "2023-11-18T06:44:09.458545Z",
          "iopub.execute_input": "2023-11-18T06:44:09.458890Z",
          "iopub.status.idle": "2023-11-18T06:44:12.976980Z",
          "shell.execute_reply.started": "2023-11-18T06:44:09.458864Z",
          "shell.execute_reply": "2023-11-18T06:44:12.976075Z"
        },
        "trusted": true,
        "colab": {
          "base_uri": "https://localhost:8080/",
          "height": 807
        },
        "id": "ifz52mdcuK8Z",
        "outputId": "cae90a61-b2cb-4bdf-bca1-9394394c9042"
      },
      "execution_count": 21,
      "outputs": [
        {
          "output_type": "stream",
          "name": "stdout",
          "text": [
            "actual_train_loader  Accuracy: 0.9196787148594378\n",
            "Classification Report:\n",
            "               precision    recall  f1-score   support\n",
            "\n",
            "           0       0.94      0.95      0.95       192\n",
            "           1       0.84      0.81      0.82        57\n",
            "\n",
            "    accuracy                           0.92       249\n",
            "   macro avg       0.89      0.88      0.88       249\n",
            "weighted avg       0.92      0.92      0.92       249\n",
            "\n",
            "Confusion Matrix:\n",
            "[[183   9]\n",
            " [ 11  46]]\n"
          ]
        },
        {
          "output_type": "display_data",
          "data": {
            "text/plain": [
              "<Figure size 800x600 with 2 Axes>"
            ],
            "image/png": "[encoded data removed]"
          },
          "metadata": {}
        }
      ]
    },
    {
      "cell_type": "code",
      "source": [
        "result(actual_test_loader,'actual_test_loader ')\n"
      ],
      "metadata": {
        "execution": {
          "iopub.status.busy": "2023-11-18T06:44:26.804884Z",
          "iopub.execute_input": "2023-11-18T06:44:26.805270Z",
          "iopub.status.idle": "2023-11-18T06:44:32.752647Z",
          "shell.execute_reply.started": "2023-11-18T06:44:26.805239Z",
          "shell.execute_reply": "2023-11-18T06:44:32.751755Z"
        },
        "trusted": true,
        "colab": {
          "base_uri": "https://localhost:8080/",
          "height": 807
        },
        "id": "qOunB7b0uK8a",
        "outputId": "2d572c4e-66c3-46a3-eccb-3c818fae6048"
      },
      "execution_count": 22,
      "outputs": [
        {
          "output_type": "stream",
          "name": "stdout",
          "text": [
            "actual_test_loader  Accuracy: 0.7435897435897436\n",
            "Classification Report:\n",
            "               precision    recall  f1-score   support\n",
            "\n",
            "           0       0.87      0.83      0.85       201\n",
            "           1       0.19      0.24      0.21        33\n",
            "\n",
            "    accuracy                           0.74       234\n",
            "   macro avg       0.53      0.53      0.53       234\n",
            "weighted avg       0.77      0.74      0.76       234\n",
            "\n",
            "Confusion Matrix:\n",
            "[[166  35]\n",
            " [ 25   8]]\n"
          ]
        },
        {
          "output_type": "display_data",
          "data": {
            "text/plain": [
              "<Figure size 800x600 with 2 Axes>"
            ],
            "image/png": "[encoded data removed]"
          },
          "metadata": {}
        }
      ]
    },
    {
      "cell_type": "code",
      "source": [
        "result(eval_loader,'eval_loader')"
      ],
      "metadata": {
        "colab": {
          "base_uri": "https://localhost:8080/",
          "height": 807
        },
        "id": "-WbIwd2KT_26",
        "outputId": "79c8f1d6-f9f8-4ae0-9775-38603079380a"
      },
      "execution_count": 23,
      "outputs": [
        {
          "output_type": "stream",
          "name": "stdout",
          "text": [
            "eval_loader Accuracy: 0.922077922077922\n",
            "Classification Report:\n",
            "               precision    recall  f1-score   support\n",
            "\n",
            "           0       0.93      0.87      0.90        31\n",
            "           1       0.92      0.96      0.94        46\n",
            "\n",
            "    accuracy                           0.92        77\n",
            "   macro avg       0.92      0.91      0.92        77\n",
            "weighted avg       0.92      0.92      0.92        77\n",
            "\n",
            "Confusion Matrix:\n",
            "[[27  4]\n",
            " [ 2 44]]\n"
          ]
        },
        {
          "output_type": "display_data",
          "data": {
            "text/plain": [
              "<Figure size 800x600 with 2 Axes>"
            ],
            "image/png": "[encoded data removed]"
          },
          "metadata": {}
        }
      ]
    }
  ]
}